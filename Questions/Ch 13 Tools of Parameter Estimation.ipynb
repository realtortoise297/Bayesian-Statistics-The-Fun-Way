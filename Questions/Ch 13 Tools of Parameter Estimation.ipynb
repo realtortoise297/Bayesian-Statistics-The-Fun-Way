{
 "cells": [
  {
   "cell_type": "markdown",
   "metadata": {},
   "source": [
    "# Problem 1\n",
    "Using the code example for plotting the PDF on page 127, plot the CDF and quantile functions.\n",
    "# Solution 1"
   ]
  },
  {
   "cell_type": "code",
   "execution_count": null,
   "metadata": {},
   "outputs": [],
   "source": []
  },
  {
   "cell_type": "markdown",
   "metadata": {},
   "source": [
    "# Problem 2\n",
    "Returning to the task of measuring snowfall from Chapter 10, say you have the following measurements (in inches) of snowfall:\n",
    "\n",
    "7.8, 9.4, 10.0, 7.9, 9.4, 7.0, 7.0, 7.1, 8.9, 7.4\n",
    "\n",
    "What is your 99.9 percent confidence interval for the true value of snowfall?\n",
    "# Solution 2"
   ]
  },
  {
   "cell_type": "code",
   "execution_count": null,
   "metadata": {},
   "outputs": [],
   "source": []
  },
  {
   "cell_type": "markdown",
   "metadata": {},
   "source": [
    "# Problem 3\n",
    "A child is going door to door selling candy bars. So far she has visited 30 houses and sold 10 candy bars. She will visit 40 more houses today. What is the 95 percent confidence interval for how many candy bars she will sell the rest of the day?\n",
    "# Solution 3"
   ]
  },
  {
   "cell_type": "code",
   "execution_count": null,
   "metadata": {},
   "outputs": [],
   "source": []
  }
 ],
 "metadata": {
  "kernelspec": {
   "display_name": "Python 3.10.6 64-bit",
   "language": "python",
   "name": "python3"
  },
  "language_info": {
   "name": "python",
   "version": "3.10.6"
  },
  "orig_nbformat": 4,
  "vscode": {
   "interpreter": {
    "hash": "d22fc3ea14eaa05d16114e9e7a18ee4c4426c40dd8d7741740ed7a46e0299b43"
   }
  }
 },
 "nbformat": 4,
 "nbformat_minor": 2
}
