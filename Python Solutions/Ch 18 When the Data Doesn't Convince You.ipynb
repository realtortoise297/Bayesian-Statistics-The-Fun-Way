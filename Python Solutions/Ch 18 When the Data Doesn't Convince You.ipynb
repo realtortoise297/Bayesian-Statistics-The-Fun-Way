{
 "cells": [
  {
   "cell_type": "markdown",
   "metadata": {},
   "source": [
    "# Problem 1\n",
    "When two hypotheses explain the data equally well, one way to change our minds is to see if we can attack the prior probability. What are some factors that might increase your prior belief in your friend’s psychic powers?\n",
    "# Solution 1"
   ]
  },
  {
   "cell_type": "markdown",
   "metadata": {},
   "source": [
    "Finding out he had been experimented on by mad scientists.\n",
    "\n",
    "Finding out he came from a family of psychics.\n",
    "\n",
    "Him succeeding in a more advanced psychic task"
   ]
  },
  {
   "cell_type": "markdown",
   "metadata": {},
   "source": [
    "# Problem 2\n",
    "An experiment claims that when people hear the word Florida, they think of the elderly and this has an impact on their walking speed. To test this, we have two groups of 15 students walk across a room; one group hears the word Florida and one does not.\n",
    "\n",
    "Assume H1 = the groups don’t move at different speeds, and H2 = the Florida group is slower because of hearing the word Florida. Also assume: \n",
    " \n",
    "$BF = \\frac{P(D|H_2)}{P(D|H_1)}$\n",
    "\n",
    "The experiment shows that H2 has a Bayes factor of 19. Suppose someone is unconvinced by this experiment because H2 had a lower prior odds. What prior odds would explain someone being unconvinced and what would the BF need to be to bring the posterior odds to 50 for this unconvinced person? \n",
    "\n",
    "Now suppose the prior odds do not change the skeptic’s mind. Think of an alternate H3 that explains the observation that the Florida group is slower. Remember if H2 and H3 both explain the data equally well, only prior odds in favor of H3 would lead someone to claim H3 is true over H2, so we need to rethink the experiment so that these odds are decreased.Come up with an experiment that could change the prior odds in H3 over H2.\n",
    "# Solution 2"
   ]
  },
  {
   "cell_type": "markdown",
   "metadata": {},
   "source": [
    "BF = 19\n",
    "\n",
    "PosteriorOdds = 50\n",
    "\n",
    "PriorOdds = BF/PosteriorOdds\n",
    "\n",
    "PriorOdds = 950\n",
    "\n",
    "Rerandomize the groups and try it again 2 or 3 times to see if the difference in walking speed persists."
   ]
  }
 ],
 "metadata": {
  "kernelspec": {
   "display_name": "Python 3.10.6 64-bit",
   "language": "python",
   "name": "python3"
  },
  "language_info": {
   "name": "python",
   "version": "3.10.6"
  },
  "orig_nbformat": 4,
  "vscode": {
   "interpreter": {
    "hash": "d22fc3ea14eaa05d16114e9e7a18ee4c4426c40dd8d7741740ed7a46e0299b43"
   }
  }
 },
 "nbformat": 4,
 "nbformat_minor": 2
}
