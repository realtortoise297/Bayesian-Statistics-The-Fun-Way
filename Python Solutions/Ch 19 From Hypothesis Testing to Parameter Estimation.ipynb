{
 "cells": [
  {
   "cell_type": "markdown",
   "metadata": {},
   "source": [
    "# Problem 1\n",
    "Our Bayes factor assumed that we were looking at $H_1: P(prize) = 0.5$. This allowed us to derive a version of the beta distribution with an alpha of 1 and a beta of 1. Would it matter if we chose a different probability for $H_1$? \n",
    "\n",
    "Assume $H_1: P(prize) = 0.24$, then see if the resulting distribution, once normalized to sum to 1, is any different than the original hypothesis.\n",
    "# Solution 1"
   ]
  },
  {
   "cell_type": "code",
   "execution_count": null,
   "metadata": {},
   "outputs": [],
   "source": [
    "import numpy as np\n",
    "import plotly.express as px\n",
    "\n",
    "# Run the initial test\n",
    "dx = .01\n",
    "hypothosis = np.arange(0,1+dx,dx)\n",
    "\n",
    "\n",
    "def bayes_factor(h_top, h_bottom):\n",
    "    return ((h_top**24)*((1-h_top)**76))/(((h_bottom)**24)*((1-h_bottom)**76))\n",
    "\n",
    "# Run the Bayes factor test for both of the original hypothosis\n",
    "bayesFactors5 = bayes_factor(h_top = hypothosis, h_bottom = .5)\n",
    "bayesFactors24 = bayes_factor(h_top = hypothosis, h_bottom = .24)\n",
    "factor_list = [bayesFactors5, bayesFactors24]\n",
    "\n",
    "# Show the unormalized graphs then normalize it and show how they compare.\n",
    "px.line(x=hypothosis,y = factor_list.copy(),title=\"Unormalized Differences\").show()\n",
    "for item in range(len(factor_list)):\n",
    "    factor_list[item] = factor_list[item]/factor_list[item].sum()\n",
    "px.line(x=hypothosis,y = factor_list.copy(),title=\"Normalized Differences\").show()\n"
   ]
  },
  {
   "cell_type": "markdown",
   "metadata": {},
   "source": [
    "# Problem 2\n",
    "Write a prior for the distribution in which each hypothesis is 1.05 times more likely than the previous hypothesis (assume our dx remains the same).\n",
    "# Solution 2"
   ]
  },
  {
   "cell_type": "code",
   "execution_count": null,
   "metadata": {},
   "outputs": [],
   "source": []
  },
  {
   "cell_type": "markdown",
   "metadata": {},
   "source": [
    "# Problem 3\n",
    "Suppose you observed another duck game that included 34 ducks with prizes and 66 ducks without prizes. How would you set up a test to answer “What is the probability that you have a better chance of winning a prize in this game than in the game we used in our example?” Implementing this requires a bit more sophistication than the R(Python) used in this book, but see if you can learn this on your own to kick off your adventures in more advanced Bayesian statistics!\n",
    "# Solution 3"
   ]
  },
  {
   "cell_type": "code",
   "execution_count": null,
   "metadata": {},
   "outputs": [],
   "source": []
  }
 ],
 "metadata": {
  "kernelspec": {
   "display_name": "Python 3.10.6 64-bit",
   "language": "python",
   "name": "python3"
  },
  "language_info": {
   "name": "python",
   "version": "3.10.6"
  },
  "orig_nbformat": 4,
  "vscode": {
   "interpreter": {
    "hash": "d22fc3ea14eaa05d16114e9e7a18ee4c4426c40dd8d7741740ed7a46e0299b43"
   }
  }
 },
 "nbformat": 4,
 "nbformat_minor": 2
}
