{
 "cells": [
  {
   "cell_type": "markdown",
   "metadata": {},
   "source": [
    "# Problem 1\n",
    "\n",
    "Kansas City, despite its name, sits on the border of two US states: Missouri and Kansas. The Kansas City metropolitan area consists of 15 counties, 9 in Missouri and 6 in Kansas. The entire state of Kansas has 105 counties and Missouri has 114. Use Bayes’ theorem to calculate the probability that a relative who just moved to a county in the Kansas City metropolitan area also lives in a county in Kansas. Make sure to show P(Kansas) assuming your relative either lives in Kansas or Missouri), P(Kansas City metropolitan area), and P(Kansas City Metropolitan area | Kansas). \n",
    "\n",
    "# Solution 1"
   ]
  },
  {
   "cell_type": "code",
   "execution_count": 1,
   "metadata": {},
   "outputs": [
    {
     "name": "stdout",
     "output_type": "stream",
     "text": [
      "0.4\n"
     ]
    }
   ],
   "source": [
    "from fractions import Fraction\n",
    "kc_counties_total  = 15\n",
    "kc_counties_in_Mis = 9\n",
    "kc_counties_in_Kan = 6\n",
    "\n",
    "counties_in_Mis = 114\n",
    "counties_in_Kan = 105\n",
    "\n",
    "Pk = 105/(101+114)\n",
    "Pkcm_k = 6/105\n",
    "Pkcm = 15/(101+114)\n",
    "\n",
    "Pk_kcm = (Pk*Pkcm_k)/Pkcm\n",
    "print(Pk_kcm)\n",
    "\n"
   ]
  },
  {
   "cell_type": "markdown",
   "metadata": {},
   "source": [
    "# Problem 2\n",
    "\n",
    "A deck of cards has 52 cards with suits that are either red or black. There are four aces in a deck of cards: two red and two black. You remove a red ace from the deck and shuffle the cards. Your friend pulls a black card. What is the probability that it is an ace?\n",
    "\n",
    "# Solution 2"
   ]
  },
  {
   "cell_type": "code",
   "execution_count": 2,
   "metadata": {},
   "outputs": [
    {
     "name": "stdout",
     "output_type": "stream",
     "text": [
      "0.07692307692307693\n",
      "0.07692307692307693\n"
     ]
    }
   ],
   "source": [
    "from fractions import Fraction\n",
    "Pa_b = 2/26\n",
    "print(Pa_b)\n",
    "Pb = 26/51\n",
    "Pa = 3/51\n",
    "Pb_a = 2/3\n",
    "print((Pa*Pb_a)/Pb)\n"
   ]
  }
 ],
 "metadata": {
  "kernelspec": {
   "display_name": "Python 3.10.6 64-bit",
   "language": "python",
   "name": "python3"
  },
  "language_info": {
   "codemirror_mode": {
    "name": "ipython",
    "version": 3
   },
   "file_extension": ".py",
   "mimetype": "text/x-python",
   "name": "python",
   "nbconvert_exporter": "python",
   "pygments_lexer": "ipython3",
   "version": "3.10.6"
  },
  "orig_nbformat": 4,
  "vscode": {
   "interpreter": {
    "hash": "d22fc3ea14eaa05d16114e9e7a18ee4c4426c40dd8d7741740ed7a46e0299b43"
   }
  }
 },
 "nbformat": 4,
 "nbformat_minor": 2
}
