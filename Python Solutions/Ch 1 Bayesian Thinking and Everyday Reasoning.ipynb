{
 "cells": [
  {
   "cell_type": "markdown",
   "metadata": {},
   "source": [
    "# Question 1\n",
    "\n",
    "Rewrite the following statements as equations using the mathematical notation you\n",
    "learned in this chapter:\n",
    "\n",
    "- The probability of rain is low\n",
    "- The probability of rain given that it is cloudy is high\n",
    "- The probability of you having an umbrella given it is raining is much greater than the probability of you having an umbrella in general.\n",
    "\n",
    "# Solution 1"
   ]
  },
  {
   "cell_type": "markdown",
   "metadata": {},
   "source": [
    "With\n",
    "\n",
    "$r$ = it is raining\n",
    "\n",
    "$c$ = it is cloudy\n",
    "\n",
    "$u$ = you have an umbrella\n",
    "\n",
    "- The probability of rain is low\n",
    "    - $P(r)$ = low\n",
    "- The probability of rain given that it is cloudy is high\n",
    "    - $P(r|c)$ = high\n",
    "- The probability of you having an umbrella given it is raining is much greater than the probability of you having an umbrella in general.\n",
    "    - $P(u|r)$ >> $P(u)$"
   ]
  },
  {
   "cell_type": "markdown",
   "metadata": {},
   "source": [
    "# Question 2\n",
    "Organize the data you observe in the following scenario into a mathematical notation,\n",
    "using the techniques we’ve covered in this chapter. Then come up with a hypothesis to\n",
    "explain this data:\n",
    "\n",
    "You come home from work and notice that your front door is open and the side window is\n",
    "broken. As you walk inside, you immediately notice that your laptop is missing.\n",
    "\n",
    "# Solution 2"
   ]
  },
  {
   "cell_type": "markdown",
   "metadata": {},
   "source": [
    "\n",
    "With\n",
    "### Data\n",
    "- $D_1=$ Front Door is Open\n",
    "- $D_2=$ Side Window is Broken\n",
    "- $D_3=$ Laptop is missing\n",
    "### Hypothosis\n",
    "- $H_1=$ Someone has broken in and stolen my laptop\n",
    "### Probability\n",
    "\n",
    "$P(D_1,D_2,D_3|H_1)$\n",
    "\n",
    "\n"
   ]
  },
  {
   "cell_type": "markdown",
   "metadata": {},
   "source": [
    "# Question 3\n",
    "The following scenario adds data to the previous one. Demonstrate how this new\n",
    "information changes your beliefs and come up with a second hypothesis to explain the data,\n",
    "using the notation you’ve learned in this chapter.\n",
    "\n",
    "A neighborhood child runs up to you and apologizes profusely for accidentally throwing a\n",
    "rock through your window. They claim that they saw the laptop and didn’t want it stolen so\n",
    "they opened the front door to grab it, and your laptop is safe at their house.\n",
    "\n",
    "# Solution 3\n"
   ]
  },
  {
   "cell_type": "markdown",
   "metadata": {},
   "source": [
    "### Data\n",
    "$D_4=$ A neighorhood child says he broke the window and took your laptop to keep it safe from someone getting into the window he broke\n",
    "\n",
    "$D=[D_1,D_2,D_3,D_4]$\n",
    "### Hypthosis\n",
    "$H_2=$ The story the child told you is what happened\n",
    "### Probability\n",
    "$P(D|H_1)<<P(D|H_2)$\n",
    "\n",
    "Therefore $\\frac{P(D|H_2)}{P(D|H_1)} =$ a large number\n",
    "\n",
    "\n",
    "\n",
    "\n"
   ]
  }
 ],
 "metadata": {
  "kernelspec": {
   "display_name": "Python 3.10.6 64-bit",
   "language": "python",
   "name": "python3"
  },
  "language_info": {
   "name": "python",
   "version": "3.10.6"
  },
  "orig_nbformat": 4,
  "vscode": {
   "interpreter": {
    "hash": "d22fc3ea14eaa05d16114e9e7a18ee4c4426c40dd8d7741740ed7a46e0299b43"
   }
  }
 },
 "nbformat": 4,
 "nbformat_minor": 2
}
