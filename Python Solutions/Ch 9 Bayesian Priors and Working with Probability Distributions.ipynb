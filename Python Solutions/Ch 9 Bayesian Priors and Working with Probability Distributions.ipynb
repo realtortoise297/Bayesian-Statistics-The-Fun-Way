{
 "cells": [
  {
   "cell_type": "markdown",
   "metadata": {},
   "source": [
    "# Problem 1\n",
    "A friend finds a coin on the ground, flips it, and gets six heads in a row and then one tails. Give the beta distribution that describes this. Use integration to determine the probability that the true rate of flipping heads is between 0.4 and 0.6, reflecting that the coin is reasonably fair.\n",
    "# Solution 1"
   ]
  },
  {
   "cell_type": "code",
   "execution_count": null,
   "metadata": {},
   "outputs": [],
   "source": [
    "from scipy.stats import beta\n",
    "\n",
    "\n",
    "heads = 6\n",
    "not_heads = 1\n",
    "betacdf = beta(heads,not_heads).cdf\n",
    "betacdf(.6)-betacdf(.4)"
   ]
  },
  {
   "cell_type": "markdown",
   "metadata": {},
   "source": [
    "# Problem 2\n",
    "Come up with a prior probability that the coin is fair. Use a beta distribution such that there is at least a 95 percent chance that the true rate of flipping heads is between 0.4 and 0.6.\n",
    "# Solution 2"
   ]
  },
  {
   "cell_type": "code",
   "execution_count": null,
   "metadata": {},
   "outputs": [],
   "source": [
    "from scipy.stats import beta\n",
    "\n",
    "heads = 6\n",
    "not_heads = 1\n",
    "\n",
    "for likelyhood in range(1,100):\n",
    "    betacdf = beta(likelyhood+heads,likelyhood+not_heads).cdf\n",
    "    probablity_range = betacdf(.6)-betacdf(.4)\n",
    "    if probablity_range>0.951:\n",
    "        print(f\"At {likelyhood*2} additional flips that are fair we have a 95% probability ({probablity_range}) the coins is even between 40% and 60% of the time\")\n",
    "        print(f\"Meaning we had both priors \\u03B1 and priors \\u03B2 of {likelyhood}\")\n",
    "        break\n",
    "\n"
   ]
  },
  {
   "cell_type": "markdown",
   "metadata": {},
   "source": [
    "# Problem 3\n",
    "Now see how many more heads (with no more tails) it would take to convince you that there is a reasonable chance that the coin is not fair. In this case, let’s say that this means that our belief in the rate of the coin being between 0.4 and 0.6 drops below 0.5.\n",
    "# Solution 3"
   ]
  },
  {
   "cell_type": "code",
   "execution_count": null,
   "metadata": {},
   "outputs": [],
   "source": [
    "from scipy.stats import beta\n",
    "\n",
    "heads = 6\n",
    "not_heads = 1\n",
    "prior_likelyhood=55\n",
    "\n",
    "for new_likelyhood in range(1,100):\n",
    "    betacdf = beta(prior_likelyhood+heads+new_likelyhood,prior_likelyhood+not_heads).cdf\n",
    "    probablity_range = betacdf(.6)-betacdf(.4)\n",
    "    if probablity_range<0.5:\n",
    "        print(f\"It takes {new_likelyhood} heads only flips to get it out of a 50% confidence interval\")\n",
    "        break"
   ]
  }
 ],
 "metadata": {
  "kernelspec": {
   "display_name": "Python 3.10.6 64-bit",
   "language": "python",
   "name": "python3"
  },
  "language_info": {
   "codemirror_mode": {
    "name": "ipython",
    "version": 3
   },
   "file_extension": ".py",
   "mimetype": "text/x-python",
   "name": "python",
   "nbconvert_exporter": "python",
   "pygments_lexer": "ipython3",
   "version": "3.10.6"
  },
  "orig_nbformat": 4,
  "vscode": {
   "interpreter": {
    "hash": "d22fc3ea14eaa05d16114e9e7a18ee4c4426c40dd8d7741740ed7a46e0299b43"
   }
  }
 },
 "nbformat": 4,
 "nbformat_minor": 2
}
