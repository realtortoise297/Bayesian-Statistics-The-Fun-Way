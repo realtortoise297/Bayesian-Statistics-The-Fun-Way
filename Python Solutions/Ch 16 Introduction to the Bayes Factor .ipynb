{
 "cells": [
  {
   "cell_type": "markdown",
   "metadata": {},
   "source": [
    "# Problem 1\n",
    "Returning to the dice problem, assume that your friend made a mistake and suddenly realized that there were, in fact, two loaded dice and only one fair die. How does this change the prior, and therefore the posterior odds, for our problem? Are you more willing to believe that the die being rolled is the loaded die?\n",
    "# Solution 1"
   ]
  },
  {
   "cell_type": "code",
   "execution_count": null,
   "metadata": {},
   "outputs": [],
   "source": [
    "import pandas as pd\n",
    "from fractions import Fraction\n",
    "# Setup the variables based on the initial data\n",
    "df = pd.DataFrame(data={'Rolls':[6,1,3,6,4,5,6,1,2,6]})\n",
    "sixes_rolled = len(df[df['Rolls']==6])\n",
    "other_rolled = len(df[df['Rolls']!=6])\n",
    "# Setup initial priors\n",
    "prior_loaded = Fraction(1/3)\n",
    "prior_unloaded = Fraction(2/3)\n",
    "# Calculate Likelyhoods\n",
    "likelyhood_h1 = (Fraction(1/2)**sixes_rolled) * (Fraction(1/2)**other_rolled)\n",
    "likelyhood_h2 = (Fraction(1/6)**sixes_rolled) * (Fraction(5/6)**other_rolled)\n",
    "# Show Results\n",
    "print(\"Initial Prior Results\")\n",
    "print(f\"The likelyhood of H1 with the given rolls is {float(likelyhood_h1)}\\n\"+\n",
    "    f\"The likelyhood of H2 with the given rolls is {float(likelyhood_h2)}\\n\"+ \n",
    "    f\"So without priors the Odds are {float(likelyhood_h1/likelyhood_h2)} but with the priors the odds are {float((likelyhood_h1*prior_loaded)/(likelyhood_h2*prior_unloaded))}\\n\\n\")\n",
    "\n",
    "print(\"Updated Prior Results\")\n",
    "prior_loaded = Fraction(2/3)\n",
    "prior_unloaded = Fraction(1/3)\n",
    "print(f\"The likelyhood of H1 with the given rolls is {float(likelyhood_h1)}\\n\"+\n",
    "    f\"The likelyhood of H2 with the given rolls is {float(likelyhood_h2)}\\n\"+ \n",
    "    f\"So without priors the Odds are {float(likelyhood_h1/likelyhood_h2)} but with the priors the odds are {float((likelyhood_h1*prior_loaded)/(likelyhood_h2*prior_unloaded))}\\n\\n\")\n"
   ]
  },
  {
   "cell_type": "markdown",
   "metadata": {},
   "source": [
    "# Problem 2\n",
    "Returning to the rare diseases example, suppose you go to the doctor, and after having your ears cleaned you notice that your symptoms persist. Even worse, you have a new symptom: vertigo. The doctor proposes another possible explanation, labyrinthitis, which is a viral infection of the inner ear in which 98 percent of cases involve vertigo. However, hearing loss and tinnitus are less common in this disease; hearing loss occurs only 30 percent of the time, and tinnitus occurs only 28 percent of the time. Vertigo is also a possible symptom of vestibular schwannoma, but occurs in only 49 percent of cases. In the general population, 35 people per million contract labyrinthitis annually. What is the posterior odds when you compare the hypothesis that you have labyrinthitis against the hypothesis that you have vestibular schwannoma?\n",
    "# Solution 2"
   ]
  },
  {
   "cell_type": "code",
   "execution_count": null,
   "metadata": {},
   "outputs": [],
   "source": [
    "import pandas as pd\n",
    "from fractions import Fraction\n",
    "# Setup the variables based on the initial data\n",
    "\n",
    "# Setup initial priors\n",
    "prior_lab = 35/10e7\n",
    "prior_sch = 11/10e7\n",
    "print(prior_lab)\n",
    "\n",
    "# Calculate Likelyhoods\n",
    "likelyhood_h1 = .98*.3*.28\n",
    "likelyhood_h2 = .63*.55*.49\n",
    "\n",
    "# Show Results\n",
    "print(f\"So without priors the Bayes Factor is {float(likelyhood_h1/likelyhood_h2)}\\n But with the priors the odds are {(likelyhood_h1*prior_lab)/(likelyhood_h2*prior_sch)}\")"
   ]
  }
 ],
 "metadata": {
  "kernelspec": {
   "display_name": "Python 3.10.6 64-bit",
   "language": "python",
   "name": "python3"
  },
  "language_info": {
   "codemirror_mode": {
    "name": "ipython",
    "version": 3
   },
   "file_extension": ".py",
   "mimetype": "text/x-python",
   "name": "python",
   "nbconvert_exporter": "python",
   "pygments_lexer": "ipython3",
   "version": "3.10.6"
  },
  "orig_nbformat": 4,
  "vscode": {
   "interpreter": {
    "hash": "d22fc3ea14eaa05d16114e9e7a18ee4c4426c40dd8d7741740ed7a46e0299b43"
   }
  }
 },
 "nbformat": 4,
 "nbformat_minor": 2
}
