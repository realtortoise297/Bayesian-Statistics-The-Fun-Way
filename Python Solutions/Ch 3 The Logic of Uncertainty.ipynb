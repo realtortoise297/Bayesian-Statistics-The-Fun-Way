{
 "cells": [
  {
   "cell_type": "markdown",
   "metadata": {},
   "source": [
    "# Problem 1\n",
    "\n",
    "What is the probability of rolling a 20 three times in a row on a 20-sided die? \n",
    "\n",
    "# Solution 1\n"
   ]
  },
  {
   "cell_type": "code",
   "execution_count": 3,
   "metadata": {},
   "outputs": [
    {
     "name": "stdout",
     "output_type": "stream",
     "text": [
      "1/8000\n",
      "0.00012500000000000003\n",
      "0.000125\n"
     ]
    }
   ],
   "source": [
    "from fractions import Fraction\n",
    "\n",
    "print(Fraction(1,20)*Fraction(1,20)*Fraction(1,20))\n",
    "print((1/20)*(1/20)*(1/20))\n",
    "print(1/8000)"
   ]
  },
  {
   "cell_type": "markdown",
   "metadata": {},
   "source": [
    "# Problem 2\n",
    "\n",
    "The weather report says there’s a 10 percent chance of rain tomorrow, and you forget  your umbrella half the time you go out. What is the probability that you’ll be caught in the rain without an umbrella tomorrow?\n",
    "\n",
    "# Solution 2"
   ]
  },
  {
   "cell_type": "code",
   "execution_count": 5,
   "metadata": {},
   "outputs": [
    {
     "name": "stdout",
     "output_type": "stream",
     "text": [
      "0.05\n",
      "1/20\n"
     ]
    }
   ],
   "source": [
    "from fractions import Fraction\n",
    "\n",
    "print(Fraction(1,2)*.1)\n",
    "print(Fraction(1,2)*Fraction(1,10))"
   ]
  },
  {
   "cell_type": "markdown",
   "metadata": {},
   "source": [
    "# Problem 3\n",
    "\n",
    "Raw eggs have a 1/20,000 probability of having salmonella. If you eat two raw eggs, what is the probability you ate a raw egg with salmonella?\n",
    "\n",
    "# Solution 3"
   ]
  },
  {
   "cell_type": "code",
   "execution_count": 11,
   "metadata": {},
   "outputs": [
    {
     "name": "stdout",
     "output_type": "stream",
     "text": [
      "399999/40000000000\n",
      "9.999975e-06\n"
     ]
    }
   ],
   "source": [
    "from fractions import Fraction\n",
    "\n",
    "bad_egg = Fraction(1,200000)\n",
    "\n",
    "print(bad_egg+bad_egg-(bad_egg*bad_egg))\n",
    "print(float(bad_egg+bad_egg-(bad_egg*bad_egg)))"
   ]
  },
  {
   "cell_type": "markdown",
   "metadata": {},
   "source": [
    "# Problem 4\n",
    "\n",
    "What is the probability of either flipping two heads in two coin tosses or rolling three  6s in three six-sided dice rolls? \n",
    "\n",
    "# Solution 4"
   ]
  },
  {
   "cell_type": "code",
   "execution_count": 15,
   "metadata": {},
   "outputs": [
    {
     "name": "stdout",
     "output_type": "stream",
     "text": [
      "73/288\n"
     ]
    }
   ],
   "source": [
    "from fractions import Fraction\n",
    "\n",
    "two_heads   = Fraction(1,2*2)\n",
    "three_sixes = Fraction(1,6*6*6) \n",
    "print(two_heads+three_sixes-(two_heads*three_sixes))"
   ]
  }
 ],
 "metadata": {
  "kernelspec": {
   "display_name": "Python 3.10.6 64-bit",
   "language": "python",
   "name": "python3"
  },
  "language_info": {
   "codemirror_mode": {
    "name": "ipython",
    "version": 3
   },
   "file_extension": ".py",
   "mimetype": "text/x-python",
   "name": "python",
   "nbconvert_exporter": "python",
   "pygments_lexer": "ipython3",
   "version": "3.10.6"
  },
  "orig_nbformat": 4,
  "vscode": {
   "interpreter": {
    "hash": "d22fc3ea14eaa05d16114e9e7a18ee4c4426c40dd8d7741740ed7a46e0299b43"
   }
  }
 },
 "nbformat": 4,
 "nbformat_minor": 2
}
