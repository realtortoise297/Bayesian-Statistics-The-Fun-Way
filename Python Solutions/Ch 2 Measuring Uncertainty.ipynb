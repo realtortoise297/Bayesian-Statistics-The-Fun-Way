{
 "cells": [
  {
   "cell_type": "markdown",
   "metadata": {},
   "source": [
    "# Question 1\n",
    "\n",
    "What is the probability of rolling two six-sided dice and getting a value greater than 7?\n",
    "\n",
    "# Solution 1"
   ]
  },
  {
   "cell_type": "code",
   "execution_count": 1,
   "metadata": {},
   "outputs": [],
   "source": [
    "def print_answer(roll_totals,high_rolls,roll_floor,probability):\n",
    "    print(\n",
    "    \"Out of \"+str(len(roll_totals))+\" total possible rolls there are \"\n",
    "    +str(len(high_rolls))+\" greater than \"+str(roll_floor)\n",
    "    +\"\\nmeaning the probability of a roll above \"+str(roll_floor)+\" is \"\n",
    "    +str(round(probability,4))+' or '+str(round(float(probability),4)*100)+\"%\"\n",
    "    )"
   ]
  },
  {
   "cell_type": "code",
   "execution_count": 2,
   "metadata": {},
   "outputs": [
    {
     "name": "stdout",
     "output_type": "stream",
     "text": [
      "0.4166666666666667\n",
      "Out of 36 total possible rolls there are 15 greater than 7\n",
      "meaning the probability of a roll above 7 is 0.4167 or 41.67%\n"
     ]
    }
   ],
   "source": [
    "# Define possible rolls of the die and set up data structure to hold our totals\n",
    "possibile_rolls = [1,2,3,4,5,6]\n",
    "roll_totals = []\n",
    "roll_floor = 7\n",
    "\n",
    "# Run through each possible roll for each die\n",
    "for die_1 in possibile_rolls:\n",
    "    for die_2 in possibile_rolls:\n",
    "        roll_totals.append(die_1+die_2)\n",
    "\n",
    "#Get a list of rolls greater than the roll floor\n",
    "high_rolls = [roll for roll in roll_totals if roll > roll_floor]\n",
    "probability = len(high_rolls)/len(roll_totals)\n",
    "print(probability)\n",
    "\n",
    "# Uses above format to give a more specific answer\n",
    "print_answer(roll_totals,high_rolls,roll_floor,probability)"
   ]
  },
  {
   "cell_type": "code",
   "execution_count": null,
   "metadata": {},
   "outputs": [],
   "source": []
  },
  {
   "cell_type": "markdown",
   "metadata": {},
   "source": [
    "# Question 2\n",
    "What is the probability of rolling three six-sided dice and getting a value greater than 7?\n",
    "\n",
    "# Solution 2"
   ]
  },
  {
   "cell_type": "code",
   "execution_count": 3,
   "metadata": {},
   "outputs": [
    {
     "name": "stdout",
     "output_type": "stream",
     "text": [
      "Out of 216 total possible rolls there are 181 greater than 7\n",
      "meaning the probability of a roll above 7 is 0.838 or 83.8%\n"
     ]
    }
   ],
   "source": [
    "# Define possible rolls of the die and set up data structure to hold our totals\n",
    "possibile_rolls = [1,2,3,4,5,6]\n",
    "roll_totals = []\n",
    "roll_floor = 7\n",
    "\n",
    "# Run through each possible roll for each die\n",
    "for die_1 in possibile_rolls:\n",
    "    for die_2 in possibile_rolls:\n",
    "        for die_3 in possibile_rolls:\n",
    "            roll_totals.append(die_1+die_2+die_3)\n",
    "\n",
    "#Get a list of rolls greater than the roll floor\n",
    "high_rolls = [roll for roll in roll_totals if roll > roll_floor]\n",
    "probability = len(high_rolls)/len(roll_totals)\n",
    "print(\n",
    "    \"Out of \"+str(len(roll_totals))+\" total possible rolls there are \"\n",
    "    +str(len(high_rolls))+\" greater than \"+str(roll_floor)\n",
    "    +\"\\nmeaning the probability of a roll above \"+str(roll_floor)+\" is \"\n",
    "    +str(round(probability,4))+' or '+str(round(float(probability),4)*100)+\"%\"\n",
    "    )"
   ]
  },
  {
   "cell_type": "markdown",
   "metadata": {},
   "source": [
    "# Question 3\n",
    "The Yankees are playing the Red Sox. You’re a diehard Sox fan and bet your friend they’ll win the game. You’ll pay your friend $30 if the Sox lose and your friend will have to pay you only $5 if the Sox win. What is the probability you have intuitively assigned to the belief that the Red Sox will win?\n",
    "\n",
    "# Solution 3"
   ]
  },
  {
   "cell_type": "code",
   "execution_count": 8,
   "metadata": {},
   "outputs": [
    {
     "name": "stdout",
     "output_type": "stream",
     "text": [
      "The odds you assigned to the Sox winning are (6, 1)\n",
      "Which means you inherently assigned the probability to be >= 6/7\n"
     ]
    }
   ],
   "source": [
    "from fractions import Fraction\n",
    "sox_payoff =30\n",
    "not_sox_payoff = 5\n",
    "\n",
    "Odds_Sox = Fraction(sox_payoff/not_sox_payoff)\n",
    "Probability_Sox = Fraction(Odds_Sox/(1+Odds_Sox))\n",
    "print(\n",
    "    \"The odds you assigned to the Sox winning are \"+str(Odds_Sox.as_integer_ratio())\n",
    "    +\"\\nWhich means you inherently assigned the probability to be >= \"+str(Probability_Sox))"
   ]
  }
 ],
 "metadata": {
  "kernelspec": {
   "display_name": "Python 3.10.6 64-bit",
   "language": "python",
   "name": "python3"
  },
  "language_info": {
   "codemirror_mode": {
    "name": "ipython",
    "version": 3
   },
   "file_extension": ".py",
   "mimetype": "text/x-python",
   "name": "python",
   "nbconvert_exporter": "python",
   "pygments_lexer": "ipython3",
   "version": "3.10.6"
  },
  "orig_nbformat": 4,
  "vscode": {
   "interpreter": {
    "hash": "d22fc3ea14eaa05d16114e9e7a18ee4c4426c40dd8d7741740ed7a46e0299b43"
   }
  }
 },
 "nbformat": 4,
 "nbformat_minor": 2
}
