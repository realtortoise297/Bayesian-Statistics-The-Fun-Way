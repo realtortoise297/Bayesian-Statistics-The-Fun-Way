{
 "cells": [
  {
   "cell_type": "markdown",
   "metadata": {},
   "source": [
    "# Problem 1\n",
    "Every time you and your friend get together to watch movies, you flip a coin to determine who gets to choose the movie. Your friend always picks heads, and every Friday for 10 weeks, the coin lands on heads. You develop a hypothesis that the coin has two heads sides, rather than both a heads side and a tails side. Set up a Bayes factor for the hypothesis that the coin is a trick coin over the hypothesis that the coin is fair. What does this ratio alone suggest about whether or not your friend is cheating you? \n",
    "# Solution 1"
   ]
  },
  {
   "cell_type": "code",
   "execution_count": null,
   "metadata": {},
   "outputs": [],
   "source": [
    "# Probability the coin would be heads everytime if it was\n",
    "# A = Heads on both sides\n",
    "# B = Fair\n",
    "likelyhoodA = 1\n",
    "likelyhoodB = (1/2)**10\n",
    "\n",
    "# Calculate and Print the bayes factor\n",
    "BayesFactor = (likelyhoodA/likelyhoodB)\n",
    "print(f\"With likelyhood A = {likelyhoodA}, and likelyhood B = {likelyhoodB}, the Bayes factor for a is {BayesFactor}\")"
   ]
  },
  {
   "cell_type": "markdown",
   "metadata": {},
   "source": [
    "# Problem 2\n",
    "Now imagine three cases: that your friend is a bit of a prankster, that your friend is honest most of the time but can occasionally be sneaky, and that your friend is very trustworthy. In each case, estimate some prior odds ratios for your hypothesis andcompute the posterior odds.\n",
    "# Solution 2"
   ]
  },
  {
   "cell_type": "code",
   "execution_count": null,
   "metadata": {},
   "outputs": [],
   "source": [
    "# Probability the coin would be heads everytime if it was\n",
    "# A = Heads on both sides\n",
    "# B = Fair\n",
    "likelyhoodA = 1\n",
    "likelyhoodB = (1/2)**10\n",
    "\n",
    "\n",
    "# Calculate and Print the bayes factor\n",
    "BayesFactor = (likelyhoodA/likelyhoodB)\n",
    "print(f\"With likelyhood A = {likelyhoodA}, and likelyhood B = {likelyhoodB}, the Bayes factor for a is {BayesFactor}\")\n",
    "\n",
    "# Setup odds for each of the hypothosis\n",
    "priorTrickster = 10/1 \n",
    "priorSneaky    = 1/4\n",
    "priorHonest    = 1/10000\n",
    "print(\"\\nThe probability for each hypothis are as below\\n\"\n",
    "f\"He is a trickster {priorTrickster*BayesFactor}\\nHe is sneaky {priorSneaky*BayesFactor}\\nHe is honest {priorHonest*BayesFactor}\")  "
   ]
  },
  {
   "cell_type": "markdown",
   "metadata": {},
   "source": [
    "# Problem 3\n",
    "Suppose you trust this friend deeply. Make the prior odds of them cheating 1/10,000. How many times would the coin have to land on heads before you feel unsure about their innocence—say, a posterior odds of 1?\n",
    "# Solution 3"
   ]
  },
  {
   "cell_type": "code",
   "execution_count": null,
   "metadata": {},
   "outputs": [],
   "source": [
    "from numpy import log2\n",
    "from math import ceil\n",
    "# Probability the coin would be heads everytime if it was\n",
    "# A = Heads on both sides\n",
    "# B = Fair\n",
    "likelyhoodA = 1\n",
    "likelyhoodB = (1/2)**10\n",
    "\n",
    "priorOdds = 1/10000\n",
    "posteriorOdds = 1\n",
    "\n",
    "likelyhoodB_convincing = likelyhoodA*priorOdds/posteriorOdds\n",
    "print(f\"With Prior Odds of {priorOdds} you would need the likeylhood of the rigged coin to be {likelyhoodB_convincing}\")\n",
    "\n",
    "# Get the number of required tosses by taking the log of the \n",
    "# inverse of the likelyhood needed to convince you\n",
    "required_tosses = log2(1/likelyhoodB_convincing)\n",
    "# round up the number of tosses\n",
    "required_tosses = ceil(required_tosses)\n",
    "print(required_tosses)"
   ]
  },
  {
   "cell_type": "markdown",
   "metadata": {},
   "source": [
    "# Problem 4\n",
    "Another friend of yours also hangs out with this same friend and, after only four weeks of the coin landing on heads, feels certain you’re both being cheated. This confidence implies a posterior odds of about 100. What value would you assign to this other friend’s prior belief that the first friend is a cheater?\n",
    "# Solution 4"
   ]
  },
  {
   "cell_type": "code",
   "execution_count": null,
   "metadata": {},
   "outputs": [],
   "source": [
    "# Probability the coin would be heads everytime if it was\n",
    "# A = Heads on both sides\n",
    "# B = Fair\n",
    "likelyhoodA = 1\n",
    "likelyhoodB = (1/2)**4\n",
    "posteriorOdds = 100\n",
    "\n",
    "priorOdds = (posteriorOdds*likelyhoodB)/likelyhoodA\n",
    "print(f\"Prior Odds = {priorOdds}\")"
   ]
  }
 ],
 "metadata": {
  "kernelspec": {
   "display_name": "Python 3.10.6 64-bit",
   "language": "python",
   "name": "python3"
  },
  "language_info": {
   "codemirror_mode": {
    "name": "ipython",
    "version": 3
   },
   "file_extension": ".py",
   "mimetype": "text/x-python",
   "name": "python",
   "nbconvert_exporter": "python",
   "pygments_lexer": "ipython3",
   "version": "3.10.6"
  },
  "orig_nbformat": 4,
  "vscode": {
   "interpreter": {
    "hash": "d22fc3ea14eaa05d16114e9e7a18ee4c4426c40dd8d7741740ed7a46e0299b43"
   }
  }
 },
 "nbformat": 4,
 "nbformat_minor": 2
}
