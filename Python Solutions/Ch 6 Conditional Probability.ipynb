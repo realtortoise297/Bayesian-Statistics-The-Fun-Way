{
 "cells": [
  {
   "cell_type": "markdown",
   "metadata": {},
   "source": [
    "# Problem 1\n",
    "What piece of information would we need in order to use Bayes’ theorem to determine the probability that someone in 2010 who had GBS also had the flu vaccine that year?\n",
    "# Solution 1"
   ]
  },
  {
   "cell_type": "markdown",
   "metadata": {},
   "source": [
    "### What we have\n",
    "\n",
    "$P(GBS)= \\frac{2}{100,000}$\n",
    "\n",
    "$P(GBS| $ flu vaccine $)= \\frac{3}{100,000}$\n",
    "\n",
    "### What we need\n",
    "\n",
    "Given $P(A|B) = \\frac{P(A)*P(B|A)}{P(B)}$\n",
    "\n",
    "To deterimine $P($ flu vaccine $|GBS)$ we need either\n",
    "1. $P($ flu vaccine $)$\n",
    "2. The full dataset to make the calculations"
   ]
  },
  {
   "cell_type": "markdown",
   "metadata": {},
   "source": [
    "# Problem 2\n",
    "What is the probability that a random person picked from the population is female and is not color blind?\n",
    "# Solution 2\n",
    "\n",
    "### Given\n",
    "$P(f)= P(\\neg m)  = .5$\n",
    "\n",
    "$P(c) = 0.0425$\n",
    "\n",
    "$P(c|f) = 0.005$\n",
    "\n",
    "## Therfore\n",
    "\n",
    "$P(\\neg c| f) = 1-0.005$\n"
   ]
  },
  {
   "cell_type": "code",
   "execution_count": 1,
   "metadata": {},
   "outputs": [
    {
     "name": "stdout",
     "output_type": "stream",
     "text": [
      "0.4975\n"
     ]
    }
   ],
   "source": [
    "Pf   = .5\n",
    "Pc   = .0425\n",
    "Pc_f = .005\n",
    "\n",
    "random_person_is_female_and_not_colorblind = Pf*(1-Pc_f)\n",
    "print(random_person_is_female_and_not_colorblind)"
   ]
  },
  {
   "cell_type": "markdown",
   "metadata": {},
   "source": [
    "# Problem 3\n",
    "What is the probability that a male who received the flu vaccine in 2010 is either color blind or has GBS?\n",
    "# Solution 3\n",
    "\n",
    "### Given\n",
    "\n",
    "$P(c|m)=0.08$\n",
    "\n",
    "$P(GBS|$ flu vaccine $)= \\frac{3}{100,000}$\n",
    "\n",
    "### Also it appears that the answer key made a mistake and used $P(m,c)$ instead of $P(m|c)$"
   ]
  },
  {
   "cell_type": "code",
   "execution_count": 11,
   "metadata": {},
   "outputs": [
    {
     "name": "stdout",
     "output_type": "stream",
     "text": [
      "0.0800276\n"
     ]
    }
   ],
   "source": [
    "Pgbs =  3/100000\n",
    "Pc_m = 0.08\n",
    "Has_GBS_or_is_Colorblind = Pc_m +Pgbs -(Pgbs*Pc_m)\n",
    "print(Has_GBS_or_is_Colorblind)"
   ]
  }
 ],
 "metadata": {
  "kernelspec": {
   "display_name": "Python 3.10.6 64-bit",
   "language": "python",
   "name": "python3"
  },
  "language_info": {
   "codemirror_mode": {
    "name": "ipython",
    "version": 3
   },
   "file_extension": ".py",
   "mimetype": "text/x-python",
   "name": "python",
   "nbconvert_exporter": "python",
   "pygments_lexer": "ipython3",
   "version": "3.10.6"
  },
  "orig_nbformat": 4,
  "vscode": {
   "interpreter": {
    "hash": "d22fc3ea14eaa05d16114e9e7a18ee4c4426c40dd8d7741740ed7a46e0299b43"
   }
  }
 },
 "nbformat": 4,
 "nbformat_minor": 2
}
