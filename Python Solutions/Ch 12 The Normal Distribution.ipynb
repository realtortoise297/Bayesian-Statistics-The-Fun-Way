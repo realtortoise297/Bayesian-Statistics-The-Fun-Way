{
 "cells": [
  {
   "cell_type": "markdown",
   "metadata": {},
   "source": [
    "# Problem 1\n",
    "What is the probability of observing a value five sigma greater than the mean or more?\n",
    "# Solution 1"
   ]
  },
  {
   "cell_type": "code",
   "execution_count": null,
   "metadata": {},
   "outputs": [],
   "source": [
    "from scipy.stats import norm\n",
    "dist = norm()\n",
    "std_range = 5\n",
    "values_outside_of_std_range = 1-(dist.cdf(std_range)-dist.cdf(-std_range))\n",
    "print(f\"In a standard gausian distribution (and only a standard gausian distribution) {values_outside_of_std_range} of the values are outside of the {std_range} sigma range\")\n"
   ]
  },
  {
   "cell_type": "markdown",
   "metadata": {},
   "source": [
    "# Problem 2\n",
    "A fever is any temperature greater than 100.4 degrees Fahrenheit. Given the following measurements, what is the probability that the patient has a fever?\n",
    "\n",
    "100.0, 99.8, 101.0, 100.5, 99.7\n",
    "# Solution 2"
   ]
  },
  {
   "cell_type": "code",
   "execution_count": null,
   "metadata": {},
   "outputs": [],
   "source": [
    "import numpy as np\n",
    "from scipy.stats import norm\n",
    "\n",
    "dist = norm()\n",
    "FEVER = 100.4\n",
    "\n",
    "readings = np.array([100.0,99.8,101.0,100.5,99.7])\n",
    "mean = readings.mean()\n",
    "std  = readings.std()\n",
    "# From here there are two ways to do this I like doing it with Z scores, but the book uses values.\n",
    "# So we'll do both\n",
    "\n",
    "#The below is the z score method.\n",
    "# First you get the z score for your target.\n",
    "# With the target being how many standard deviations you are from the mean \n",
    "fever_Z = (FEVER - mean )/std\n",
    "# Then you find out the probability your outside that range\n",
    "probability_above_fever = 1-(dist.cdf(fever_Z))\n",
    "print(f\"Assuming standard (gausian) errors to the measurements the probability your above a fever range is {probability_above_fever}\")\n",
    "\n",
    "# The other method allows you to make several measurments using the same distribution\n",
    "# and allows for you to more easily see if any of the Z-scores indicates your distribution is not gausian\n",
    "# However this method is a bit more intuitive. It also allows you to use values instead of z scores\n",
    "# this can make the distribution more easy to use\n",
    "dist = norm(loc = mean,scale = std)\n",
    "probability_above_fever = 1-(dist.cdf(FEVER))\n",
    "print(f\"Assuming standard (gausian) errors to the measurements the probability your above a fever range is {probability_above_fever}\")\n"
   ]
  },
  {
   "cell_type": "markdown",
   "metadata": {},
   "source": [
    "# Problem 3\n",
    "Suppose in Chapter 11 we tried to measure the depth of a well by timing coin drops and got the following values: \n",
    "\n",
    "2.5, 3, 3.5, 4, 2\n",
    "\n",
    "The distance an object falls can be calculated (in meters) with the following formula: \n",
    "\n",
    "$distance = 1/2 × G × time^2$\n",
    "\n",
    "where G is 9.8 m/s/s. What is the probability that the well is over 500 meters deep?\n",
    "# Solution 3"
   ]
  },
  {
   "cell_type": "code",
   "execution_count": null,
   "metadata": {},
   "outputs": [],
   "source": [
    "import numpy as np\n",
    "\n",
    "GRAVITY = 9.8\n",
    "estimate_depth = 500\n",
    "dist = norm()\n",
    "\n",
    "time_measurements = np.array([2.5,3,3.5,4,2])\n",
    "distance_measurements = .5*GRAVITY*(time_measurements**2)\n",
    "print(f\"From the time measurments we can infer that the depth for each measurment was\\n{distance_measurements}\")\n",
    "depth_z = (estimate_depth-distance_measurements.mean())/distance_measurements.std()\n",
    "probablity_deeper_than = 1-(dist.cdf(depth_z))\n",
    "print(f\"So there is a {probablity_deeper_than} chance it is deeper than {estimate_depth}\")\n",
    "\n"
   ]
  },
  {
   "cell_type": "markdown",
   "metadata": {},
   "source": [
    "# Problem 4\n",
    "What is the probability there is no well (i.e., the well is really 0 meters deep)? You’ll notice that probability is higher than you might expect, given your observation that there is a well. There are two good explanations for this probability being higher than it should. The first is that the normal distribution is a poor model for our measurements; the second is that, when making up numbers for an example, I chose values that you likely wouldn’t see in real life. Which is more likely to you?\n",
    "# Solution 4"
   ]
  },
  {
   "cell_type": "code",
   "execution_count": null,
   "metadata": {},
   "outputs": [],
   "source": [
    "GRAVITY = 9.8\n",
    "estimate_depth = 0\n",
    "dist = norm()\n",
    "\n",
    "time_measurements = np.array([2.5,3,3.5,4,2])\n",
    "distance_measurements = .5*GRAVITY*(time_measurements**2)\n",
    "print(f\"From the time measurments we can infer that the depth for each measurment was\\n{distance_measurements}\")\n",
    "depth_z = (estimate_depth-distance_measurements.mean())/distance_measurements.std()\n",
    "probablity_deeper_than = (dist.cdf(depth_z))\n",
    "print(f\"So there is a {probablity_deeper_than} chance it not even {estimate_depth} meters deep or is actually a hill\")"
   ]
  },
  {
   "cell_type": "markdown",
   "metadata": {},
   "source": [
    "There could be several reasons for this. Like the book says you should always question if the model is right. And since I work in finance I deal with the books example of when the normal distribution doesn't work very often. As a result I tend to always question the use of a gausian distibution."
   ]
  }
 ],
 "metadata": {
  "kernelspec": {
   "display_name": "Python 3.10.6 64-bit",
   "language": "python",
   "name": "python3"
  },
  "language_info": {
   "codemirror_mode": {
    "name": "ipython",
    "version": 3
   },
   "file_extension": ".py",
   "mimetype": "text/x-python",
   "name": "python",
   "nbconvert_exporter": "python",
   "pygments_lexer": "ipython3",
   "version": "3.10.6"
  },
  "orig_nbformat": 4,
  "vscode": {
   "interpreter": {
    "hash": "d22fc3ea14eaa05d16114e9e7a18ee4c4426c40dd8d7741740ed7a46e0299b43"
   }
  }
 },
 "nbformat": 4,
 "nbformat_minor": 2
}
