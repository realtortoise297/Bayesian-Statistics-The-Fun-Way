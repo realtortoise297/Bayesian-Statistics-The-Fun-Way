{
 "cells": [
  {
   "cell_type": "markdown",
   "metadata": {},
   "source": [
    "# Problem 1\n",
    "As mentioned, you might disagree with the original probability assigned to the likelihood:\n",
    "\n",
    "\n",
    "$P($ broken window, open front door, missing laptop | robbed $)=\\frac{3}{10}$\n",
    "\n",
    "How much does this change our strength in believing H1 over H2?\n",
    "# Solution 1"
   ]
  },
  {
   "cell_type": "code",
   "execution_count": null,
   "metadata": {},
   "outputs": [],
   "source": [
    "def write_summary(Ph1,Ph2,Pd_h1,Pd_h2):\n",
    "    print(f\"Our unomalized posteriors are\\n H1 = {Ph1*Pd_h1}\\n H1 = {Ph2*Pd_h2}\")\n",
    "    print(f\"So we think H1 is {(Ph1*Pd_h1)/(Ph2*Pd_h2)} times more/less likely than H2\\n\")\n",
    "    return\n",
    "\n",
    "from fractions import Fraction\n",
    "\n",
    "# get odds from book\n",
    "Ph1   = Fraction(1,1000)\n",
    "Ph2   = Fraction(1,2000)*Fraction(1,30)*Fraction(1,365)\n",
    "Pd_h1 = Fraction(3,10)\n",
    "Pd_h2 = Fraction(1,1)\n",
    "#Display the old ratio\n",
    "print(f\"P(H1) = {Ph1}\\nP(H2) = {Ph2}\\nP(D|H1) = {Pd_h1}\\nP(D|H2) = {Pd_h2}\\n\")\n",
    "write_summary(Ph1=Ph1,Ph2=Ph2,Pd_h1=Pd_h1,Pd_h2=Pd_h2)\n",
    "\n",
    "\n",
    "\n",
    "# Show the change in results from a new P(D|H1)\n",
    "explanations =  []\n",
    "for i in range(1,11):\n",
    "    Pd_h1 = Fraction(i,10)\n",
    "    # Uncomment this code for a more full summary\n",
    "    # print(f\"So if P(D|H1) = {Pd_h1}\")\n",
    "    # write_summary(Ph1=Ph1,Ph2=Ph2,Pd_h1=Pd_h1,Pd_h2=Pd_h2)\n",
    "    answer = (Ph1*Pd_h1)/(Ph2*Pd_h2)\n",
    "    print(f\"If P(d|H) = {Pd_h1} we think H1 is  {answer} times more likely than H2\")\n",
    "    explanations.append(answer)\n",
    "# See the change in the the explanations\n",
    "for i in range(1,len(explanations)):\n",
    "    print(explanations[i] -explanations[i-1])\n",
    "# Therefore you can see as we increase our P(D|H1)\n",
    "# our preference for H1 increases, in a linear fashion."
   ]
  },
  {
   "cell_type": "markdown",
   "metadata": {},
   "source": [
    "# Problem 2\n",
    "How unlikely would you have to believe being robbed is—our prior for $H_1$—in order for the ratio of $H_1$ to $H_2$ to be even?\n",
    "# Solution 2"
   ]
  },
  {
   "cell_type": "code",
   "execution_count": null,
   "metadata": {},
   "outputs": [],
   "source": [
    "# This is just a simple algebra problem.\n",
    "# Python ends up basically being a calculator with fractions here \n",
    "def write_summary(Ph1,Ph2,Pd_h1,Pd_h2):\n",
    "    print(f\"Our unomalized posteriors are\\n H1 = {Ph1*Pd_h1}\\n H1 = {Ph2*Pd_h2}\")\n",
    "    print(f\"So we think H1 is {(Ph1*Pd_h1)/(Ph2*Pd_h2)} times more/less likely than H2\\n\")\n",
    "    return\n",
    "\n",
    "\n",
    "from fractions import Fraction\n",
    "# get odds from book\n",
    "Ph1   = Fraction(1,1000)\n",
    "Ph2   = Fraction(1,2000)*Fraction(1,30)*Fraction(1,365)\n",
    "Pd_h1 = Fraction(3,10)\n",
    "Pd_h2 = Fraction(1,1)\n",
    "write_summary(Ph1=Ph1,Ph2=Ph2,Pd_h1=Pd_h1,Pd_h2=Pd_h2)\n",
    "# set the outcome ratio to 1, then with all variables but Pd_h1 on paper then set Pd_h1.\n",
    "# So 1 = P(H1)*P(D|H1)/P(H2)*P(D|H2)\n",
    "# Then P(H1)*P(D|H1) = P(H2)*P(D|H2)\n",
    "# finally P(D|H1) = (P(H2)*P(D|H2))/p(H1)\n",
    "\n",
    "Pd_h1 = (Ph2*Pd_h2)/Ph1\n",
    "print(f\"So to get them even P(D|H1) must be {Pd_h1} and then\")\n",
    "write_summary(Ph1=Ph1,Ph2=Ph2,Pd_h1=Pd_h1,Pd_h2=Pd_h2)\n",
    "\n",
    "# This one really illustrates how important simple algebra can still be even with programming."
   ]
  }
 ],
 "metadata": {
  "kernelspec": {
   "display_name": "Python 3.10.6 64-bit",
   "language": "python",
   "name": "python3"
  },
  "language_info": {
   "codemirror_mode": {
    "name": "ipython",
    "version": 3
   },
   "file_extension": ".py",
   "mimetype": "text/x-python",
   "name": "python",
   "nbconvert_exporter": "python",
   "pygments_lexer": "ipython3",
   "version": "3.10.6"
  },
  "orig_nbformat": 4,
  "vscode": {
   "interpreter": {
    "hash": "d22fc3ea14eaa05d16114e9e7a18ee4c4426c40dd8d7741740ed7a46e0299b43"
   }
  }
 },
 "nbformat": 4,
 "nbformat_minor": 2
}
